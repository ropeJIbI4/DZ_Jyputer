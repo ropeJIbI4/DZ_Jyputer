{
 "cells": [
  {
   "cell_type": "markdown",
   "id": "904c9506",
   "metadata": {},
   "source": [
    "# Дана функция f(x) = (sin(x)/2 + cos(x)/2)^2 * sin(x)"
   ]
  },
  {
   "cell_type": "markdown",
   "id": "5e0c0db1",
   "metadata": {},
   "source": [
    "# Определить корни.Найти интервалы, на которых функция возрастает.Найти интервалы, на которых функция убывает.Построить график.Вычислить вершину.Определить промежутки, на котором f > 0.Определить промежутки, на котором f < 0"
   ]
  },
  {
   "cell_type": "code",
   "execution_count": 1,
   "id": "1d056566",
   "metadata": {},
   "outputs": [
    {
     "name": "stdout",
     "output_type": "stream",
     "text": [
      "(sin(x)/2 + cos(x)/2)**2*sin(x)¸[-pi/4, 0, 3*pi/4, pi]\n"
     ]
    }
   ],
   "source": [
    "from sympy import *\n",
    "\n",
    "x = Symbol(\"x\")\n",
    "f = sympify((sin(x) / 2 + cos(x) / 2) ** 2 * sin(x))\n",
    "s = solve(f, x)\n",
    "s = sorted(s)\n",
    "\n",
    "print(f'{f}¸{s}')"
   ]
  },
  {
   "cell_type": "code",
   "execution_count": 11,
   "id": "b9214261",
   "metadata": {},
   "outputs": [
    {
     "name": "stdout",
     "output_type": "stream",
     "text": [
      "(-sin(x) + cos(x))*(sin(x)/2 + cos(x)/2)*sin(x) + (sin(x)/2 + cos(x)/2)**2*cos(x) \n",
      "\n",
      "1.-2*atan(-3/2 + sqrt(6)*sqrt(5 - sqrt(17))/2 + sqrt(17)/2) : -pi/4.\n",
      "2.-pi/4 : 2*atan(-sqrt(6)*sqrt(sqrt(17) + 5)/2 + 3/2 + sqrt(17)/2)\n",
      "3.2*atan(-sqrt(6)*sqrt(sqrt(17) + 5)/2 + 3/2 + sqrt(17)/2) : 2*atan(-sqrt(17)/2 + sqrt(6)*sqrt(5 - sqrt(17))/2 + 3/2).\n",
      "4.2*atan(-sqrt(17)/2 + sqrt(6)*sqrt(5 - sqrt(17))/2 + 3/2) : 3*pi/4\n",
      "5.3*pi/4 : 2*atan(3/2 + sqrt(17)/2 + sqrt(6)*sqrt(sqrt(17) + 5)/2).\n",
      "6.2*atan(3/2 + sqrt(17)/2 + sqrt(6)*sqrt(sqrt(17) + 5)/2) : -2*atan(-3/2 + sqrt(6)*sqrt(5 - sqrt(17))/2 + sqrt(17)/2) + 2*pi\n"
     ]
    }
   ],
   "source": [
    "d = diff(f)\n",
    "d_1 = sorted(solve(d,x))\n",
    "\n",
    "print(d,'\\n')\n",
    "\n",
    "period = pi\n",
    "\n",
    "while True:   \n",
    "    p_1 = d.subs(x, 0)\n",
    "    p_2 = d.subs(x, 0 + period)\n",
    "    if p_1 == p_2:\n",
    "        break\n",
    "    else:\n",
    "        period += pi\n",
    "        \n",
    "point = d_1[0] + period\n",
    "l_1 = d_1[:]\n",
    "l_1.append(point)\n",
    "l_1 = sorted(l_1)\n",
    "\n",
    "for i in range(1, len(l_1)):\n",
    "    p_1 = f.subs(x,l_1[i-1] + 0.000001)\n",
    "    p_2 = f.subs(x,l_1[i] - 0.000001)\n",
    "    if p_1 < p_2:\n",
    "        print(f'{i}.{l_1[i-1]} : {l_1[i]}.')\n",
    "    else:\n",
    "        print(f'{i}.{l_1[i-1]} : {l_1[i]}')"
   ]
  },
  {
   "cell_type": "code",
   "execution_count": 9,
   "id": "66cc0390",
   "metadata": {},
   "outputs": [
    {
     "data": {
      "image/png": "[encoded data removed]",
      "text/plain": [
       "<Figure size 432x288 with 1 Axes>"
      ]
     },
     "metadata": {
      "needs_background": "light"
     },
     "output_type": "display_data"
    }
   ],
   "source": [
    "graph = plot(f)"
   ]
  },
  {
   "cell_type": "code",
   "execution_count": 12,
   "id": "d0c9c3f7",
   "metadata": {},
   "outputs": [
    {
     "name": "stdout",
     "output_type": "stream",
     "text": [
      "x = -2*atan(-3/2 + sqrt(6)*sqrt(5 - sqrt(17))/2 + sqrt(17)/2), y = -(-sin(2*atan(-3/2 + sqrt(6)*sqrt(5 - sqrt(17))/2 + sqrt(17)/2))/2 + cos(2*atan(-3/2 + sqrt(6)*sqrt(5 - sqrt(17))/2 + sqrt(17)/2))/2)**2*sin(2*atan(-3/2 + sqrt(6)*sqrt(5 - sqrt(17))/2 + sqrt(17)/2))\n",
      "x = -pi/4, y = 0\n",
      "x = 2*atan(-sqrt(6)*sqrt(sqrt(17) + 5)/2 + 3/2 + sqrt(17)/2), y = (sin(2*atan(-sqrt(6)*sqrt(sqrt(17) + 5)/2 + 3/2 + sqrt(17)/2))/2 + cos(2*atan(-sqrt(6)*sqrt(sqrt(17) + 5)/2 + 3/2 + sqrt(17)/2))/2)**2*sin(2*atan(-sqrt(6)*sqrt(sqrt(17) + 5)/2 + 3/2 + sqrt(17)/2))\n",
      "x = 2*atan(-sqrt(17)/2 + sqrt(6)*sqrt(5 - sqrt(17))/2 + 3/2), y = (cos(2*atan(-sqrt(17)/2 + sqrt(6)*sqrt(5 - sqrt(17))/2 + 3/2))/2 + sin(2*atan(-sqrt(17)/2 + sqrt(6)*sqrt(5 - sqrt(17))/2 + 3/2))/2)**2*sin(2*atan(-sqrt(17)/2 + sqrt(6)*sqrt(5 - sqrt(17))/2 + 3/2))\n",
      "x = 3*pi/4, y = 0\n",
      "x = 2*atan(3/2 + sqrt(17)/2 + sqrt(6)*sqrt(sqrt(17) + 5)/2), y = (cos(2*atan(3/2 + sqrt(17)/2 + sqrt(6)*sqrt(sqrt(17) + 5)/2))/2 + sin(2*atan(3/2 + sqrt(17)/2 + sqrt(6)*sqrt(sqrt(17) + 5)/2))/2)**2*sin(2*atan(3/2 + sqrt(17)/2 + sqrt(6)*sqrt(sqrt(17) + 5)/2))\n"
     ]
    }
   ],
   "source": [
    "for i in d_1:\n",
    "    f_top = f.subs(x, i)\n",
    "    print(f'x = {i}, y = {f_top}')"
   ]
  },
  {
   "cell_type": "code",
   "execution_count": null,
   "id": "fffcedf7",
   "metadata": {},
   "outputs": [],
   "source": [
    "period = pi\n",
    "\n",
    "while True:   \n",
    "    q_1 = f.subs(x, 1)\n",
    "    q_2 = f.subs(x, 1 + period)\n",
    "    \n",
    "    if q_1 == q_2:\n",
    "        break\n",
    "    else:\n",
    "        period += pi\n",
    "\n",
    "point_1 = s[0] + period\n",
    "lst_zero = s[:]\n",
    "lst_zero.append(point_1)\n",
    "\n",
    "for i in range(1, len(lst_zero)):\n",
    "    point = lst_zero[i-1]\n",
    "    if f.subs(x, point + 0.0000001) > 0:\n",
    "        print(f'{i}.{lst_zero[i-1]} : {lst_zero[i]} > 0.')\n",
    "    else:\n",
    "        print(f'{i}.{lst_zero[i-1]} : {lst_zero[i]} < 0.')"
   ]
  },
  {
   "cell_type": "code",
   "execution_count": null,
   "id": "fe28dde3",
   "metadata": {},
   "outputs": [],
   "source": []
  }
 ],
 "metadata": {
  "kernelspec": {
   "display_name": "Python 3 (ipykernel)",
   "language": "python",
   "name": "python3"
  },
  "language_info": {
   "codemirror_mode": {
    "name": "ipython",
    "version": 3
   },
   "file_extension": ".py",
   "mimetype": "text/x-python",
   "name": "python",
   "nbconvert_exporter": "python",
   "pygments_lexer": "ipython3",
   "version": "3.9.12"
  }
 },
 "nbformat": 4,
 "nbformat_minor": 5
}
